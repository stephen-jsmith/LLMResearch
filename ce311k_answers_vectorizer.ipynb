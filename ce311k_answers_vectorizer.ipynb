{
 "cells": [
  {
   "cell_type": "code",
   "execution_count": 7,
   "metadata": {},
   "outputs": [],
   "source": [
    "import os\n",
    "import json\n",
    "import pandas as pd\n",
    "import chromadb\n",
    "from chromadb.config import Settings\n",
    "from sentence_transformers import SentenceTransformer"
   ]
  },
  {
   "cell_type": "code",
   "execution_count": 2,
   "metadata": {},
   "outputs": [],
   "source": [
    "# Load the answer key to work with\n",
    "with open(os.path.join(os.getcwd(), \"ce311k_answers\", \"00_variables_raw.json\")) as f:\n",
    "    answer_key = json.load(f)\n",
    "\n",
    "del answer_key[\"cells\"][0:2]"
   ]
  },
  {
   "cell_type": "code",
   "execution_count": 3,
   "metadata": {},
   "outputs": [],
   "source": [
    "# Get the data all cleaned up\n",
    "questions_ordered = {}\n",
    "q_num = -1\n",
    "question, solution, test = False, False, False\n",
    "for item in answer_key[\"cells\"]:\n",
    "    # Set the question number\n",
    "    if item[\"cell_type\"] == \"raw\":\n",
    "        if item[\"source\"][0] == \"# BEGIN QUESTION\\n\":\n",
    "            q_num += 1\n",
    "    # Ensure naming sequence is created\n",
    "    if f\"q{q_num}\" not in questions_ordered.keys():\n",
    "        questions_ordered[f\"q{q_num}\"] = {}\n",
    "        questions_ordered[f\"q{q_num}\"][\"question\"] = None\n",
    "        questions_ordered[f\"q{q_num}\"][\"solution\"] = None\n",
    "        questions_ordered[f\"q{q_num}\"][\"test\"] = None\n",
    "    # Denote what type of info the line is\n",
    "    if item[\"cell_type\"] == \"raw\":\n",
    "        if item[\"source\"][0] == \"# BEGIN QUESTION\\n\":\n",
    "            question = True\n",
    "        elif item[\"source\"][0] == \"# BEGIN SOLUTION\":\n",
    "            solution = True\n",
    "        elif item[\"source\"][0] == \"# BEGIN TESTS\":\n",
    "            test = True\n",
    "    # Put the info into the correct place\n",
    "    elif item[\"cell_type\"] != \"raw\":\n",
    "        if question:\n",
    "            questions_ordered[f\"q{q_num}\"][\"question\"] = item[\"source\"]\n",
    "            question = False\n",
    "        elif solution:\n",
    "            questions_ordered[f\"q{q_num}\"][\"solution\"] = item[\"source\"][1:-1]\n",
    "            solution = False\n",
    "        elif test:\n",
    "            questions_ordered[f\"q{q_num}\"][\"test\"] = item[\"source\"]\n",
    "            test = False"
   ]
  },
  {
   "cell_type": "code",
   "execution_count": null,
   "metadata": {},
   "outputs": [],
   "source": [
    "# Get data set up into dataframe for vectorization\n",
    "df = pd.DataFrame(\n",
    "    {\n",
    "        \"question\": [\n",
    "            questions_ordered[i][\"question\"] for i in questions_ordered.keys()\n",
    "        ],\n",
    "        \"solution\": [\n",
    "            questions_ordered[i][\"solution\"] for i in questions_ordered.keys()\n",
    "        ],\n",
    "        \"test\": [questions_ordered[i][\"test\"] for i in questions_ordered.keys()],\n",
    "    }\n",
    ")\n",
    "\n",
    "# Define the embedding function\n",
    "model = SentenceTransformer(\n",
    "    \"all-MiniLM-L6-v2\"\n",
    ")  # This is the default embedding function for chroma\n",
    "questions = []\n",
    "solutions = []\n",
    "tests = []\n",
    "for i in questions_ordered.keys():\n",
    "    questions.append(questions_ordered[i][\"question\"])\n",
    "    solutions.append(questions_ordered[i][\"solution\"])\n",
    "    tests.append(questions_ordered[i][\"test\"])\n",
    "\n",
    "question_embeddings = []\n",
    "solution_embeddings = []\n",
    "test_embeddings = []\n",
    "for i in range(len(questions)):\n",
    "    question_embeddings.append(model.encode(questions[i]))\n",
    "for i in range(len(solutions)):\n",
    "    solution_embeddings.append(model.encode(solutions[i]))\n",
    "for i in range(len(tests)):\n",
    "    test_embeddings.append(model.encode(tests[i]))\n",
    "\n",
    "df[\"question_embeddings\"] = question_embeddings\n",
    "df[\"solution_embeddings\"] = solution_embeddings\n",
    "df[\"test_embeddings\"] = test_embeddings"
   ]
  },
  {
   "cell_type": "code",
   "execution_count": null,
   "metadata": {},
   "outputs": [],
   "source": [
    "# Set up the chroma client\n",
    "chroma_client = chromadb.PersistentClient(path=\"./chroma_save_states\")\n",
    "collection = chroma_client.get_or_create_collection(name=\"00_variables\")\n",
    "\n",
    "# Add the data to the chroma client\n",
    "metas = []\n",
    "ids = []\n",
    "for i in range(len(df.index)):\n",
    "    metas.append({\"00_variables\": i})\n",
    "for i in range(len(df.index)*3):\n",
    "    ids.append(f'id{i}')\n",
    "\n",
    "collection.add(\n",
    "    documents=df[\"question\"].tolist() + df[\"solution\"].tolist() + df[\"test\"].tolist(),\n",
    "    embeddings=df[\"question_embeddings\"].tolist() + df[\"solution_embeddings\"].tolist() + df[\"test_embeddings\"].tolist(),\n",
    "    metadatas=metas + metas + metas,\n",
    "    ids=ids,\n",
    ")"
   ]
  }
 ],
 "metadata": {
  "kernelspec": {
   "display_name": "CEResearch",
   "language": "python",
   "name": "python3"
  },
  "language_info": {
   "codemirror_mode": {
    "name": "ipython",
    "version": 3
   },
   "file_extension": ".py",
   "mimetype": "text/x-python",
   "name": "python",
   "nbconvert_exporter": "python",
   "pygments_lexer": "ipython3",
   "version": "3.9.18"
  }
 },
 "nbformat": 4,
 "nbformat_minor": 2
}
