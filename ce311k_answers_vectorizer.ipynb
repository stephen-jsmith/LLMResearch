{
 "cells": [
  {
   "cell_type": "code",
   "execution_count": 2,
   "metadata": {},
   "outputs": [],
   "source": [
    "import os\n",
    "import json\n",
    "import pandas as pd\n",
    "import chromadb\n",
    "from chromadb.config import Settings\n",
    "from sentence_transformers import SentenceTransformer"
   ]
  },
  {
   "cell_type": "code",
   "execution_count": 4,
   "metadata": {},
   "outputs": [],
   "source": [
    "# Load the answer key to work with\n",
    "with open(os.path.join(os.getcwd(), \"ce311k_answers\", \"00_variables_raw.json\")) as f:\n",
    "    answer_key = json.load(f)\n",
    "\n",
    "del answer_key[\"cells\"][0:2]"
   ]
  },
  {
   "cell_type": "code",
   "execution_count": 5,
   "metadata": {},
   "outputs": [],
   "source": [
    "# Get the data all cleaned up\n",
    "questions_ordered = {}\n",
    "q_num = -1\n",
    "question, solution, test = False, False, False\n",
    "for item in answer_key[\"cells\"]:\n",
    "    # Set the question number\n",
    "    if item[\"cell_type\"] == \"raw\":\n",
    "        if item[\"source\"][0] == \"# BEGIN QUESTION\\n\":\n",
    "            q_num += 1\n",
    "    # Ensure naming sequence is created\n",
    "    if f\"q{q_num}\" not in questions_ordered.keys():\n",
    "        questions_ordered[f\"q{q_num}\"] = {}\n",
    "        questions_ordered[f\"q{q_num}\"][\"question\"] = None\n",
    "        questions_ordered[f\"q{q_num}\"][\"solution\"] = None\n",
    "        questions_ordered[f\"q{q_num}\"][\"test\"] = None\n",
    "    # Denote what type of info the line is\n",
    "    if item[\"cell_type\"] == \"raw\":\n",
    "        if item[\"source\"][0] == \"# BEGIN QUESTION\\n\":\n",
    "            question = True\n",
    "        elif item[\"source\"][0] == \"# BEGIN SOLUTION\":\n",
    "            solution = True\n",
    "        elif item[\"source\"][0] == \"# BEGIN TESTS\":\n",
    "            test = True\n",
    "    # Put the info into the correct place\n",
    "    elif item[\"cell_type\"] != \"raw\":\n",
    "        if question:\n",
    "            questions_ordered[f\"q{q_num}\"][\"question\"] = item[\"source\"]\n",
    "            question = False\n",
    "        elif solution:\n",
    "            questions_ordered[f\"q{q_num}\"][\"solution\"] = item[\"source\"][1:-1]\n",
    "            solution = False\n",
    "        elif test:\n",
    "            questions_ordered[f\"q{q_num}\"][\"test\"] = item[\"source\"]\n",
    "            test = False"
   ]
  },
  {
   "cell_type": "code",
   "execution_count": 28,
   "metadata": {},
   "outputs": [],
   "source": [
    "# Get data set up into dataframe for vectorization\n",
    "df = pd.DataFrame(\n",
    "    {\n",
    "        \"question\": [\n",
    "            questions_ordered[i][\"question\"] for i in questions_ordered.keys()\n",
    "        ],\n",
    "        \"solution\": [\n",
    "            questions_ordered[i][\"solution\"] for i in questions_ordered.keys()\n",
    "        ],\n",
    "        \"test\": [questions_ordered[i][\"test\"] for i in questions_ordered.keys()],\n",
    "    }\n",
    ")\n",
    "\n",
    "# Define the embedding function\n",
    "model = SentenceTransformer(\n",
    "    \"all-MiniLM-L6-v2\"\n",
    ")  # This is the default embedding function for chroma\n",
    "questions = []\n",
    "solutions = []\n",
    "tests = []\n",
    "for i in questions_ordered.keys():\n",
    "    questions.append(questions_ordered[i][\"question\"])\n",
    "    solutions.append(questions_ordered[i][\"solution\"])\n",
    "    tests.append(questions_ordered[i][\"test\"])\n",
    "\n",
    "questions_concat = []\n",
    "solutions_concat = []\n",
    "tests_concat = []\n",
    "\n",
    "def concatenate(iterable, sep=\" \"):\n",
    "    sentence = iterable[0]\n",
    "    for word in iterable[1:]:\n",
    "        sentence += (sep + word)\n",
    "    return sentence\n",
    "\n",
    "for i in range(len(questions)):\n",
    "    questions_concat.append(concatenate(questions[i]))\n",
    "for i in range(len(solutions)):\n",
    "    solutions_concat.append(concatenate(solutions[i]))\n",
    "for i in range(len(tests)):\n",
    "    tests_concat.append(concatenate(tests[i]))\n",
    "\n",
    "question_embeddings = []\n",
    "solution_embeddings = []\n",
    "test_embeddings = []\n",
    "for i in range(len(questions)):\n",
    "    question_embeddings.append(model.encode(questions_concat[i]).tolist())\n",
    "for i in range(len(solutions)):\n",
    "    solution_embeddings.append(model.encode(solutions_concat[i]).tolist())\n",
    "for i in range(len(tests)):\n",
    "    test_embeddings.append(model.encode(tests_concat[i]).tolist())\n",
    "\n",
    "df[\"question_embeddings\"] = question_embeddings\n",
    "df[\"solution_embeddings\"] = solution_embeddings\n",
    "df[\"test_embeddings\"] = test_embeddings"
   ]
  },
  {
   "cell_type": "code",
   "execution_count": 27,
   "metadata": {},
   "outputs": [
    {
     "name": "stdout",
     "output_type": "stream",
     "text": [
      "## Exercise 00\n",
      " \n",
      " Use the variable `v0` to evaluate the following function: \n",
      " $$\n",
      " v0 = \\frac{(14.8^2 + 6.5^2)}{3.8^2} + \\frac{55}{\\sqrt{2} + 14}\n",
      " $$\n"
     ]
    }
   ],
   "source": [
    "print(questions_concat[0])"
   ]
  },
  {
   "cell_type": "code",
   "execution_count": 30,
   "metadata": {},
   "outputs": [
    {
     "name": "stderr",
     "output_type": "stream",
     "text": [
      "Add of existing embedding ID: q0\n",
      "Add of existing embedding ID: q1\n",
      "Add of existing embedding ID: q2\n",
      "Add of existing embedding ID: q3\n",
      "Add of existing embedding ID: q4\n",
      "Add of existing embedding ID: q5\n",
      "Add of existing embedding ID: q6\n",
      "Insert of existing embedding ID: q0\n",
      "Exception occurred invoking consumer for subscription 1956c1cd7f9d47f7b5767ac66eb18044to topic persistent://default/default/07e62d56-5358-46c4-82ac-d67f64ab2099 row value misused\n",
      "Add of existing embedding ID: s0\n",
      "Add of existing embedding ID: s1\n",
      "Add of existing embedding ID: s2\n",
      "Add of existing embedding ID: s3\n",
      "Add of existing embedding ID: s4\n",
      "Add of existing embedding ID: s5\n",
      "Add of existing embedding ID: s6\n",
      "Insert of existing embedding ID: s0\n",
      "Insert of existing embedding ID: s1\n"
     ]
    },
    {
     "name": "stderr",
     "output_type": "stream",
     "text": [
      "Exception occurred invoking consumer for subscription 1956c1cd7f9d47f7b5767ac66eb18044to topic persistent://default/default/07e62d56-5358-46c4-82ac-d67f64ab2099 row value misused\n",
      "Add of existing embedding ID: t0\n",
      "Add of existing embedding ID: t1\n",
      "Add of existing embedding ID: t2\n",
      "Add of existing embedding ID: t3\n",
      "Add of existing embedding ID: t4\n",
      "Add of existing embedding ID: t5\n",
      "Add of existing embedding ID: t6\n",
      "Insert of existing embedding ID: t0\n",
      "Insert of existing embedding ID: t1\n",
      "Insert of existing embedding ID: t2\n",
      "Insert of existing embedding ID: t3\n",
      "Insert of existing embedding ID: t4\n",
      "Insert of existing embedding ID: t5\n",
      "Insert of existing embedding ID: t6\n"
     ]
    }
   ],
   "source": [
    "# Set up the chroma client\n",
    "chroma_client = chromadb.PersistentClient(path=\"./chroma_save_states\")\n",
    "collection = chroma_client.get_or_create_collection(name=\"00_variables\")\n",
    "\n",
    "# Add the data to the chroma client\n",
    "metas = []\n",
    "qids = []\n",
    "sids = []\n",
    "tids = []\n",
    "for i in range(len(df.index)):\n",
    "    metas.append({\"00_variables\": i})\n",
    "for i in range(len(df.index)):\n",
    "    qids.append(f'q{i}')\n",
    "    sids.append(f's{i}')\n",
    "    tids.append(f't{i}')\n",
    "\n",
    "collection.add(\n",
    "    documents=df[\"question\"].tolist(),\n",
    "    embeddings=question_embeddings,\n",
    "    ids=qids,\n",
    ")\n",
    "collection.add(\n",
    "    documents=df[\"solution\"].tolist(),\n",
    "    embeddings=df[\"solution_embeddings\"].tolist(),\n",
    "    metadatas=metas,\n",
    "    ids=sids,\n",
    ")\n",
    "collection.add(\n",
    "    documents=df[\"test\"].tolist(),\n",
    "    embeddings=df[\"test_embeddings\"].tolist(),\n",
    "    metadatas=metas,\n",
    "    ids=tids,\n",
    ")"
   ]
  }
 ],
 "metadata": {
  "kernelspec": {
   "display_name": "CEResearch",
   "language": "python",
   "name": "python3"
  },
  "language_info": {
   "codemirror_mode": {
    "name": "ipython",
    "version": 3
   },
   "file_extension": ".py",
   "mimetype": "text/x-python",
   "name": "python",
   "nbconvert_exporter": "python",
   "pygments_lexer": "ipython3",
   "version": "3.9.15"
  }
 },
 "nbformat": 4,
 "nbformat_minor": 2
}
